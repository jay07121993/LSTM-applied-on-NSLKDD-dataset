{
 "cells": [
  {
   "cell_type": "code",
   "execution_count": 3,
   "metadata": {
    "collapsed": true
   },
   "outputs": [],
   "source": [
    "import pandas as pd\n",
    "import numpy as np\n",
    "import os\n",
    "from sklearn import preprocessing\n",
    "from sklearn.model_selection import StratifiedKFold,KFold,ShuffleSplit\n",
    "import cntk as c\n",
    "import matplotlib.pyplot as plt\n",
    "from keras import backend as c\n",
    "from keras import layers\n",
    "from keras.models import Sequential\n",
    "from keras.layers.core import Dense, Dropout, Activation, Flatten\n",
    "from keras.layers.convolutional import Conv1D, MaxPooling1D\n",
    "from keras.layers import LSTM\n",
    "from keras.optimizers import SGD, Adam\n",
    "from keras import regularizers"
   ]
  },
  {
   "cell_type": "code",
   "execution_count": 4,
   "metadata": {},
   "outputs": [
    {
     "name": "stdout",
     "output_type": "stream",
     "text": [
      "(144766, 40)\n",
      "(125973, 5)\n",
      "(18793, 5)\n"
     ]
    }
   ],
   "source": [
    "x_train= np.loadtxt('C:/Users/jaydeep/Downloads/LSTM-master/train_test_without_miss_normalize.csv', delimiter=',', dtype='float32')\n",
    "x_train_label= np.loadtxt('C:/Users/jaydeep/Downloads/LSTM-master/data without misslabel/label_encoded_train.csv', delimiter=',', dtype='float32')\n",
    "x_test_label= np.loadtxt('C:/Users/jaydeep/Downloads/LSTM-master/data without misslabel/label_encoded_test.csv', delimiter=',', dtype='float32')\n",
    "print(x_train.shape)\n",
    "print(x_train_label.shape)\n",
    "print(x_test_label.shape)"
   ]
  },
  {
   "cell_type": "code",
   "execution_count": 34,
   "metadata": {},
   "outputs": [
    {
     "name": "stdout",
     "output_type": "stream",
     "text": [
      "(125973, 40) (125973, 5) (18793, 40) (18793, 5)\n"
     ]
    }
   ],
   "source": [
    "train= x_train[0:125973,:]\n",
    "test= x_train[125973:,:]\n",
    "train_label= x_train_label\n",
    "test_label= x_test_label\n",
    "print(train.shape, train_label.shape,test.shape, test_label.shape)\n",
    "#print(train.shape, train_label.shape,test.shape)"
   ]
  },
  {
   "cell_type": "code",
   "execution_count": 41,
   "metadata": {},
   "outputs": [
    {
     "name": "stdout",
     "output_type": "stream",
     "text": [
      "(40,)\n"
     ]
    }
   ],
   "source": [
    "print(train[1].shape)\n",
    "train_1= train.reshape(125973,40,1)\n",
    "test_1=test.reshape(18793,40,1)"
   ]
  },
  {
   "cell_type": "code",
   "execution_count": 44,
   "metadata": {},
   "outputs": [
    {
     "name": "stdout",
     "output_type": "stream",
     "text": [
      "_________________________________________________________________\n",
      "Layer (type)                 Output Shape              Param #   \n",
      "=================================================================\n",
      "dense_24 (Dense)             (None, 40, 128)           256       \n",
      "_________________________________________________________________\n",
      "lstm_26 (LSTM)               (None, 40, 64)            49408     \n",
      "_________________________________________________________________\n",
      "max_pooling1d_8 (MaxPooling1 (None, 8, 64)             0         \n",
      "_________________________________________________________________\n",
      "lstm_27 (LSTM)               (None, 32)                12416     \n",
      "_________________________________________________________________\n",
      "dropout_13 (Dropout)         (None, 32)                0         \n",
      "_________________________________________________________________\n",
      "dense_25 (Dense)             (None, 5)                 165       \n",
      "=================================================================\n",
      "Total params: 62,245\n",
      "Trainable params: 62,245\n",
      "Non-trainable params: 0\n",
      "_________________________________________________________________\n",
      "None\n",
      "Epoch 1/3\n",
      "125973/125973 [==============================] - 354s 3ms/step - loss: 0.6174 - acc: 0.7805\n",
      "Epoch 2/3\n",
      "125973/125973 [==============================] - 355s 3ms/step - loss: 0.2637 - acc: 0.9261\n",
      "Epoch 3/3\n",
      "125973/125973 [==============================] - 347s 3ms/step - loss: 0.2063 - acc: 0.9424\n"
     ]
    },
    {
     "data": {
      "text/plain": [
       "<keras.callbacks.History at 0x1f69b5a82b0>"
      ]
     },
     "execution_count": 44,
     "metadata": {},
     "output_type": "execute_result"
    }
   ],
   "source": [
    "model= Sequential()\n",
    "model.add(Dense(units=128, activation=None, input_shape=(40,1),use_bias=True))\n",
    "model.add(LSTM(64,activation='tanh', recurrent_activation='hard_sigmoid',return_sequences=True))\n",
    "model.add(MaxPooling1D(pool_size=5, strides=None, padding='valid'))\n",
    "model.add(LSTM(32, activation='tanh', recurrent_activation='hard_sigmoid', use_bias=True, kernel_initializer='glorot_uniform', recurrent_initializer='orthogonal', bias_initializer='zeros', unit_forget_bias=True, kernel_regularizer=None , implementation=1 ))\n",
    "model.add(Dropout(0.2))\n",
    "#model.add(Flatten())\n",
    "model.add(Dense(5, activation='softmax'))\n",
    "\n",
    "adam=Adam(lr=0.0001, beta_1=0.9, beta_2=0.999, epsilon=None, decay=0.0, amsgrad=False)\n",
    "model.compile(loss='categorical_crossentropy', optimizer=adam, metrics=['acc'])\n",
    "print(model.summary())\n",
    "model.fit(train_1, train_label, epochs=3, batch_size=128)"
   ]
  },
  {
   "cell_type": "code",
   "execution_count": 45,
   "metadata": {},
   "outputs": [
    {
     "name": "stdout",
     "output_type": "stream",
     "text": [
      "18793/18793 [==============================] - 37s 2ms/step\n",
      "72.82498802872568\n"
     ]
    }
   ],
   "source": [
    "scores= model.evaluate(test_1,test_label)\n",
    "print(scores[1]*100)"
   ]
  },
  {
   "cell_type": "markdown",
   "metadata": {},
   "source": [
    "Below code is just for reference. Not for use"
   ]
  },
  {
   "cell_type": "code",
   "execution_count": null,
   "metadata": {
    "collapsed": true
   },
   "outputs": [],
   "source": [
    "model= Sequential()\n",
    "model.add(Dense(units=128, activation=None, input_shape=(40,1),use_bias=True))\n",
    "model.add(LSTM(64,activation='tanh', recurrent_activation='hard_sigmoid',return_sequences=True))\n",
    "model.add(MaxPooling1D(pool_size=5, strides=None, padding='valid'))\n",
    "model.add(LSTM(32, activation='tanh', recurrent_activation='hard_sigmoid', use_bias=True, kernel_initializer='glorot_uniform', recurrent_initializer='orthogonal', bias_initializer='zeros', unit_forget_bias=True, kernel_regularizer=None , implementation=1 ))\n",
    "model.add(Dropout(0.2))\n",
    "#model.add(Flatten())\n",
    "model.add(Dense(5, activation='softmax'))\n",
    "\n",
    "adam=Adam(lr=0.0001, beta_1=0.9, beta_2=0.999, epsilon=None, decay=0.0, amsgrad=False)\n",
    "model.compile(loss='categorical_crossentropy', optimizer=adam, metrics=['acc'])\n",
    "print(model.summary())\n",
    "model.fit(train_1, train_label, epochs=2, batch_size=None)"
   ]
  },
  {
   "cell_type": "code",
   "execution_count": null,
   "metadata": {
    "collapsed": true
   },
   "outputs": [],
   "source": [
    "#enc1= Dense(units=128, activation=None, input_shape=(40,1),use_bias=True)\n",
    "enc1= LSTM(64,activation='tanh',input_shape=(40,1) ,recurrent_activation='hard_sigmoid',return_sequences=True)\n",
    "enc2= LSTM(32,activation='tanh',recurrent_activation='hard_sigmoid',return_sequences=True)(enc1)\n",
    "dec1= LSTM(64,activation='tanh',recurrent_activation='hard_sigmoid',return_sequences=True)(enc2)\n",
    "\n",
    "model1= Model(input_img, dec1)\n",
    "layer1= Model(input_img, enc2)\n",
    "\n",
    "adam=Adam(lr=0.0001, beta_1=0.9, beta_2=0.999, epsilon=None, decay=0.0, amsgrad=False)\n",
    "model1.compile(loss='categorical_crossentropy', optimizer=adam, metrics=['acc'])\n",
    "\n"
   ]
  },
  {
   "cell_type": "code",
   "execution_count": null,
   "metadata": {
    "collapsed": true
   },
   "outputs": [],
   "source": []
  }
 ],
 "metadata": {
  "kernelspec": {
   "display_name": "Python 3",
   "language": "python",
   "name": "python3"
  },
  "language_info": {
   "codemirror_mode": {
    "name": "ipython",
    "version": 3
   },
   "file_extension": ".py",
   "mimetype": "text/x-python",
   "name": "python",
   "nbconvert_exporter": "python",
   "pygments_lexer": "ipython3",
   "version": "3.6.1"
  }
 },
 "nbformat": 4,
 "nbformat_minor": 2
}
